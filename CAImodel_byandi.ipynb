{
  "nbformat": 4,
  "nbformat_minor": 0,
  "metadata": {
    "colab": {
      "provenance": [],
      "collapsed_sections": [
        "xibZIwrCpbAK"
      ],
      "authorship_tag": "ABX9TyNaz5P90D0JD4t+vLbiWQa1",
      "include_colab_link": true
    },
    "kernelspec": {
      "name": "python3",
      "display_name": "Python 3"
    },
    "language_info": {
      "name": "python"
    }
  },
  "cells": [
    {
      "cell_type": "markdown",
      "metadata": {
        "id": "view-in-github",
        "colab_type": "text"
      },
      "source": [
        "<a href=\"https://colab.research.google.com/github/idsabee/idsabee/blob/main/CAImodel_byandi.ipynb\" target=\"_parent\"><img src=\"https://colab.research.google.com/assets/colab-badge.svg\" alt=\"Open In Colab\"/></a>"
      ]
    },
    {
      "cell_type": "markdown",
      "source": [
        "## Silahkan Mount Google Drive dlu jgn kada ingat 😂"
      ],
      "metadata": {
        "id": "HyUy3foscMIT"
      }
    },
    {
      "cell_type": "code",
      "source": [
        "# 1. Hubungkan Google Drive\n",
        "from google.colab import drive\n",
        "drive.mount('/content/drive')"
      ],
      "metadata": {
        "id": "0B3AZ6sJIw1p"
      },
      "execution_count": null,
      "outputs": []
    },
    {
      "cell_type": "markdown",
      "source": [
        "### Download model Civit AI jgn lupa masukan API Token dan Link Download serta ganti nama file"
      ],
      "metadata": {
        "id": "hTD3eiQ0cnSA"
      }
    },
    {
      "cell_type": "code",
      "source": [
        "\n",
        "import os\n",
        "import requests\n",
        "from tqdm import tqdm\n",
        "\n",
        "# 2. Masukkan API Token Civit AI\n",
        "API_TOKEN = \"72c1c2cee8efa34fda61e879741d11d0\" # Ganti dengan API Token CivitAI kamu\n",
        "\n",
        "# 3. API Endpoint untuk mendapatkan header autentikasi\n",
        "headers = {\"Authorization\": f\"Bearer {API_TOKEN}\"}\n",
        "\n",
        "# 5. Tentukan lokasi penyimpanan di Google Drive\n",
        "save_path = \"/content/drive/MyDrive/\"\n",
        "os.makedirs(save_path, exist_ok=True)\n",
        "model_filename = os.path.join(save_path, \"NamaModels.safetensors\")\n",
        "model_file_url = \"https://civitai.com/api/download/models/107\"\n",
        "\n",
        "# 6. Download file dengan autentikasi API Token\n",
        "with requests.get(model_file_url, headers=headers, stream=True) as r:\n",
        "    if r.status_code == 200:\n",
        "        total_size = int(r.headers.get('content-length', 0))  # Dapatkan ukuran file\n",
        "        chunk_size = 8192\n",
        "        with open(model_filename, \"wb\") as f, tqdm(\n",
        "            desc=\"Downloading\",\n",
        "            total=total_size,\n",
        "            unit=\"B\",\n",
        "            unit_scale=True,\n",
        "            unit_divisor=1024,\n",
        "        ) as bar:\n",
        "            for chunk in r.iter_content(chunk_size=chunk_size):\n",
        "                f.write(chunk)\n",
        "                bar.update(len(chunk))  # Perbarui progress bar\n",
        "        print(f\"\\nModel berhasil disimpan di {model_filename}\")\n",
        "    else:\n",
        "        print(f\"Gagal mendownload model, kode status: {r.status_code}\")"
      ],
      "metadata": {
        "id": "klEKueOcUFD3"
      },
      "execution_count": null,
      "outputs": []
    },
    {
      "cell_type": "markdown",
      "source": [
        "## **OPTIONAL**"
      ],
      "metadata": {
        "id": "xibZIwrCpbAK"
      }
    },
    {
      "cell_type": "markdown",
      "source": [
        "2. Metode Opsional Jika Metode Pertama Gagal Awokawok"
      ],
      "metadata": {
        "id": "_YIqjAIPbN3-"
      }
    },
    {
      "cell_type": "code",
      "source": [
        "import os\n",
        "import requests\n",
        "\n",
        "# 2. Masukkan API Token dan Model ID\n",
        "API_TOKEN = \"72c1c2cee8efa34fda61e879741d11d0\" # Ganti dengan API Token CivitAI kamu\n",
        "MODEL_ID = \"166609\" # Ganti dengan ID model dari CivitAI\n",
        "\n",
        "# 3. API Endpoint untuk mendapatkan data model\n",
        "url = f\"https://civitai.com/api/v1/models/{MODEL_ID}\"\n",
        "headers = {\"Authorization\": f\"Bearer {API_TOKEN}\"}\n",
        "\n",
        "# 4. Request ke API CivitAI untuk mendapatkan URL download\n",
        "response = requests.get(url, headers=headers)\n",
        "\n",
        "if response.status_code == 200:\n",
        "    data = response.json()\n",
        "    model_file_url = data['modelVersions'][0]['files'][0]['downloadUrl']\n",
        "    print(f\"Download URL: {model_file_url}\")\n",
        "else:\n",
        "    print(\"Gagal mendapatkan data model dari CivitAI\")\n",
        "    exit()"
      ],
      "metadata": {
        "id": "o0KJu_9fj0I1"
      },
      "execution_count": null,
      "outputs": []
    },
    {
      "cell_type": "code",
      "source": [
        "from tqdm import tqdm\n",
        "\n",
        "# 5. Tentukan lokasi penyimpanan di Google Drive\n",
        "save_path = \"/content/drive/MyDrive/\"\n",
        "os.makedirs(save_path, exist_ok=True)\n",
        "model_filename = os.path.join(save_path, \"Realism_By_Stable_Yogi.safetensors\")\n",
        "\n",
        "# 6. Download file dengan autentikasi API Token\n",
        "with requests.get(model_file_url, headers=headers, stream=True) as r:\n",
        "    if r.status_code == 200:\n",
        "        total_size = int(r.headers.get('content-length', 0))  # Dapatkan ukuran file\n",
        "        chunk_size = 8192\n",
        "        with open(model_filename, \"wb\") as f, tqdm(\n",
        "            desc=\"Downloading\",\n",
        "            total=total_size,\n",
        "            unit=\"B\",\n",
        "            unit_scale=True,\n",
        "            unit_divisor=1024,\n",
        "        ) as bar:\n",
        "            for chunk in r.iter_content(chunk_size=chunk_size):\n",
        "                f.write(chunk)\n",
        "                bar.update(len(chunk))  # Perbarui progress bar\n",
        "        print(f\"\\nModel berhasil disimpan di {model_filename}\")\n",
        "    else:\n",
        "        print(f\"Gagal mendownload model, kode status: {r.status_code}\")"
      ],
      "metadata": {
        "id": "GEEuIsk6LkvQ"
      },
      "execution_count": null,
      "outputs": []
    }
  ]
}