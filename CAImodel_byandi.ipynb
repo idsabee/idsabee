{
  "nbformat": 4,
  "nbformat_minor": 0,
  "metadata": {
    "colab": {
      "provenance": [],
      "collapsed_sections": [
        "xibZIwrCpbAK"
      ],
      "include_colab_link": true
    },
    "kernelspec": {
      "name": "python3",
      "display_name": "Python 3"
    },
    "language_info": {
      "name": "python"
    }
  },
  "cells": [
    {
      "cell_type": "markdown",
      "metadata": {
        "id": "view-in-github",
        "colab_type": "text"
      },
      "source": [
        "<a href=\"https://colab.research.google.com/github/idsabee/stableNeo/blob/main/CAImodel_byandi.ipynb\" target=\"_parent\"><img src=\"https://colab.research.google.com/assets/colab-badge.svg\" alt=\"Open In Colab\"/></a>"
      ]
    },
    {
      "cell_type": "markdown",
      "source": [
        "## Silahkan Mount Google Drive dlu jangan kada ingat 😂"
      ],
      "metadata": {
        "id": "HyUy3foscMIT"
      }
    },
    {
      "cell_type": "code",
      "source": [
        "# 1. Hubungkan Google Drive\n",
        "from google.colab import drive\n",
        "drive.mount('/content/drive')"
      ],
      "metadata": {
        "id": "0B3AZ6sJIw1p"
      },
      "execution_count": null,
      "outputs": []
    },
    {
      "cell_type": "markdown",
      "source": [
        "### Jalankan kode berikut, lalu isi dan tekan download"
      ],
      "metadata": {
        "id": "hTD3eiQ0cnSA"
      }
    },
    {
      "cell_type": "code",
      "source": [
        "import os\n",
        "import requests\n",
        "from tqdm import tqdm\n",
        "import ipywidgets as widgets\n",
        "from IPython.display import display\n",
        "\n",
        "# Membuat widget input untuk API Token, model filename, dan model URL\n",
        "api_token_input = widgets.Text(\n",
        "    value=\"\",\n",
        "    placeholder=\"Masukkan API Token CivitAI\",\n",
        "    description=\"API Token:\",\n",
        "    layout=widgets.Layout(width=\"100%\")\n",
        ")\n",
        "\n",
        "model_filename_input = widgets.Text(\n",
        "    value=\"yourfilename.safetensors\",\n",
        "    placeholder=\"Masukkan nama file model\",\n",
        "    description=\"Filename:\",\n",
        "    layout=widgets.Layout(width=\"100%\")\n",
        ")\n",
        "\n",
        "model_file_url_input = widgets.Text(\n",
        "    value=\"https://civitai.com/api/download/models/1309377?type=Model&format=SafeTensor&size=pruned&fp=fp16\",\n",
        "    placeholder=\"Masukkan URL model\",\n",
        "    description=\"Model URL:\",\n",
        "    layout=widgets.Layout(width=\"100%\")\n",
        ")\n",
        "\n",
        "download_button = widgets.Button(description=\"Download Model\", button_style=\"primary\")\n",
        "\n",
        "# Menampilkan widget\n",
        "display(api_token_input, model_filename_input, model_file_url_input, download_button)\n",
        "\n",
        "# Fungsi untuk mendownload model\n",
        "def download_model(b):\n",
        "    API_TOKEN = api_token_input.value\n",
        "    model_filename = model_filename_input.value\n",
        "    model_file_url = model_file_url_input.value\n",
        "\n",
        "    if not API_TOKEN or not model_filename or not model_file_url:\n",
        "        print(\"Harap isi semua kolom terlebih dahulu!\")\n",
        "        return\n",
        "\n",
        "    # Pastikan lokasi penyimpanan di Google Drive\n",
        "    save_path = \"/content/drive/MyDrive/\"\n",
        "    os.makedirs(save_path, exist_ok=True)\n",
        "    model_filepath = os.path.join(save_path, model_filename)\n",
        "\n",
        "    headers = {\"Authorization\": f\"Bearer {API_TOKEN}\"}\n",
        "\n",
        "    # Download file dengan autentikasi API Token\n",
        "    with requests.get(model_file_url, headers=headers, stream=True) as r:\n",
        "        if r.status_code == 200:\n",
        "            total_size = int(r.headers.get('content-length', 0))  # Dapatkan ukuran file\n",
        "            chunk_size = 8192\n",
        "            with open(model_filepath, \"wb\") as f, tqdm(\n",
        "                desc=\"Downloading\",\n",
        "                total=total_size,\n",
        "                unit=\"B\",\n",
        "                unit_scale=True,\n",
        "                unit_divisor=1024,\n",
        "            ) as bar:\n",
        "                for chunk in r.iter_content(chunk_size=chunk_size):\n",
        "                    f.write(chunk)\n",
        "                    bar.update(len(chunk))  # Perbarui progress bar\n",
        "            print(f\"\\nModel berhasil disimpan di {model_filepath}\")\n",
        "        else:\n",
        "            print(f\"Gagal mendownload model, kode status: {r.status_code}\")\n",
        "\n",
        "# Menghubungkan tombol ke fungsi download\n",
        "download_button.on_click(download_model)"
      ],
      "metadata": {
        "id": "oVRsPb9K-78s"
      },
      "execution_count": null,
      "outputs": []
    },
    {
      "cell_type": "markdown",
      "source": [
        "## **OPTIONAL**"
      ],
      "metadata": {
        "id": "xibZIwrCpbAK"
      }
    },
    {
      "cell_type": "markdown",
      "source": [
        "2. Metode Opsional Jika Metode Pertama Gagal Awokawok (Lakukan Cek link di sini)"
      ],
      "metadata": {
        "id": "_YIqjAIPbN3-"
      }
    },
    {
      "cell_type": "code",
      "source": [
        "import os\n",
        "import requests\n",
        "\n",
        "# 2. Masukkan API Token dan Model ID\n",
        "API_TOKEN = \"86dgecee8efa34fda61e879741d11d0\" # Ganti dengan API Token CivitAI kamu\n",
        "MODEL_ID = \"166609\" # Ganti dengan ID model dari CivitAI\n",
        "\n",
        "# 3. API Endpoint untuk mendapatkan data model\n",
        "url = f\"https://civitai.com/api/v1/models/{MODEL_ID}\"\n",
        "headers = {\"Authorization\": f\"Bearer {API_TOKEN}\"}\n",
        "\n",
        "# 4. Request ke API CivitAI untuk mendapatkan URL download\n",
        "response = requests.get(url, headers=headers)\n",
        "\n",
        "if response.status_code == 200:\n",
        "    data = response.json()\n",
        "    model_file_url = data['modelVersions'][0]['files'][0]['downloadUrl']\n",
        "    print(f\"Download URL: {model_file_url}\")\n",
        "else:\n",
        "    print(\"Gagal mendapatkan data model dari CivitAI\")\n",
        "    exit()"
      ],
      "metadata": {
        "id": "o0KJu_9fj0I1"
      },
      "execution_count": null,
      "outputs": []
    },
    {
      "cell_type": "code",
      "source": [
        "from tqdm import tqdm\n",
        "\n",
        "# 5. Tentukan lokasi penyimpanan di Google Drive\n",
        "save_path = \"/content/drive/MyDrive/\"\n",
        "os.makedirs(save_path, exist_ok=True)\n",
        "model_filename = os.path.join(save_path, \"namaFile.safetensors\")\n",
        "\n",
        "# 6. Download file dengan autentikasi API Token\n",
        "with requests.get(model_file_url, headers=headers, stream=True) as r:\n",
        "    if r.status_code == 200:\n",
        "        total_size = int(r.headers.get('content-length', 0))  # Dapatkan ukuran file\n",
        "        chunk_size = 8192\n",
        "        with open(model_filename, \"wb\") as f, tqdm(\n",
        "            desc=\"Downloading\",\n",
        "            total=total_size,\n",
        "            unit=\"B\",\n",
        "            unit_scale=True,\n",
        "            unit_divisor=1024,\n",
        "        ) as bar:\n",
        "            for chunk in r.iter_content(chunk_size=chunk_size):\n",
        "                f.write(chunk)\n",
        "                bar.update(len(chunk))  # Perbarui progress bar\n",
        "        print(f\"\\nModel berhasil disimpan di {model_filename}\")\n",
        "    else:\n",
        "        print(f\"Gagal mendownload model, kode status: {r.status_code}\")"
      ],
      "metadata": {
        "id": "GEEuIsk6LkvQ"
      },
      "execution_count": null,
      "outputs": []
    }
  ]
}