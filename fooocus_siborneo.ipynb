{
  "cells": [
    {
      "cell_type": "markdown",
      "metadata": {
        "id": "view-in-github",
        "colab_type": "text"
      },
      "source": [
        "<a href=\"https://colab.research.google.com/github/idsabee/idsabee/blob/main/fooocus_siborneo.ipynb\" target=\"_parent\"><img src=\"https://colab.research.google.com/assets/colab-badge.svg\" alt=\"Open In Colab\"/></a>"
      ]
    },
    {
      "cell_type": "markdown",
      "source": [
        "Step 1 Install Fooocus"
      ],
      "metadata": {
        "id": "NXTeSb5BHK4V"
      }
    },
    {
      "cell_type": "code",
      "source": [
        "!pip install pygit2==1.15.1\n",
        "%cd /content\n",
        "!git clone https://github.com/lllyasviel/Fooocus.git"
      ],
      "metadata": {
        "id": "y3FJWkygjiSF"
      },
      "execution_count": null,
      "outputs": []
    },
    {
      "cell_type": "markdown",
      "source": [
        "Hubungannya Google Drive jika Dibutuhkan"
      ],
      "metadata": {
        "id": "tfD8Q3SwHbO_"
      }
    },
    {
      "cell_type": "code",
      "source": [
        "from google.colab import drive\n",
        "drive.mount('/content/drive')"
      ],
      "metadata": {
        "id": "OMXAJvpFkcGk"
      },
      "execution_count": null,
      "outputs": []
    },
    {
      "cell_type": "markdown",
      "source": [
        "Salin Models Pribadi jika ada ( Perhatian Kode Edit dan sesuaikan bagian source_path dan destination_path )"
      ],
      "metadata": {
        "id": "a5gX-5X1HpkA"
      }
    },
    {
      "cell_type": "code",
      "source": [
        "import shutil\n",
        "import os\n",
        "from tqdm import tqdm\n",
        "\n",
        "# Path file sumber dan tujuan\n",
        "source_path = \"/content/drive/MyDrive/Realism_By_Stable_Yogi.safetensors\"  # Ganti dengan path yang sesuai\n",
        "destination_path = \"/content/Fooocus/models/checkpoints/\"  # Ganti dengan path tujuan\n",
        "\n",
        "try:\n",
        "    # Periksa apakah Google Drive sudah di-mount\n",
        "    if not os.path.exists(\"/content/drive\"):\n",
        "        raise FileNotFoundError(\"Google Drive belum di-mount coy. Jalankan `drive.mount('/content/drive')` terlebih dahulu.\")\n",
        "\n",
        "    # Periksa apakah file sumber ada\n",
        "    if not os.path.isfile(source_path):\n",
        "        raise FileNotFoundError(f\"File tidak ditemukan: {source_path}\")\n",
        "\n",
        "    # Dapatkan ukuran file\n",
        "    file_size = os.path.getsize(source_path)\n",
        "\n",
        "    # Periksa apakah file kosong\n",
        "    if file_size == 0:\n",
        "        raise ValueError(\"File kosong, tidak dapat disalin.\")\n",
        "\n",
        "    # Salin file dengan progress bar\n",
        "    with open(source_path, 'rb') as src, open(destination_path, 'wb') as dst:\n",
        "        with tqdm(total=file_size, unit='B', unit_scale=True, desc=\"Copying\", ascii=True) as pbar:\n",
        "            while chunk := src.read(1024 * 1024):  # Baca file per 1MB\n",
        "                dst.write(chunk)\n",
        "                pbar.update(len(chunk))\n",
        "\n",
        "    print(f\"File berhasil disalin ke {destination_path}!\")\n",
        "\n",
        "except FileNotFoundError as e:\n",
        "    print(f\"Error: {e}\")\n",
        "\n",
        "except PermissionError:\n",
        "    print(\"Error: Izin ditolak. Periksa izin akses ke Google Drive.\")\n",
        "\n",
        "except OSError as e:\n",
        "    print(f\"Error sistem: {e}\")\n",
        "\n",
        "except Exception as e:\n",
        "    print(f\"Terjadi kesalahan: {e}\")"
      ],
      "metadata": {
        "id": "lQrveBiFEpI5"
      },
      "execution_count": null,
      "outputs": []
    },
    {
      "cell_type": "markdown",
      "source": [
        "Step 2 Jalankan Mesin"
      ],
      "metadata": {
        "id": "0zFzugj3ISJk"
      }
    },
    {
      "cell_type": "code",
      "execution_count": null,
      "metadata": {
        "id": "VjYy0F2gZIPR"
      },
      "outputs": [],
      "source": [
        "%cd /content/Fooocus\n",
        "!python entry_with_update.py --share --always-high-vram"
      ]
    }
  ],
  "metadata": {
    "colab": {
      "provenance": [],
      "gpuType": "T4",
      "include_colab_link": true
    },
    "kernelspec": {
      "display_name": "Python 3",
      "name": "python3"
    },
    "language_info": {
      "name": "python"
    },
    "accelerator": "GPU"
  },
  "nbformat": 4,
  "nbformat_minor": 0
}